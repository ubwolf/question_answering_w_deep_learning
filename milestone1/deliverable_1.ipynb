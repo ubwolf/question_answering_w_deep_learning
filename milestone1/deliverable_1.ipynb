{
 "cells": [
  {
   "cell_type": "code",
   "execution_count": 1,
   "metadata": {},
   "outputs": [],
   "source": [
    "import pandas as pd\n",
    "import re \n",
    "import textract\n",
    "\n",
    "\n",
    "def parse_pdf(file_loc):\n",
    "    return textract.process(file_loc, method='pdfminer').decode()\n",
    "\n",
    "\n",
    "def split_paragraph(text):\n",
    "    remove_meta = re.sub(r'[^\\w\\s]', '', text).strip(' ')\n",
    "    return re.split('\\s*?\\n\\s*?\\n\\s*?', remove_meta)\n",
    "\n",
    "\n",
    "def process_text(text):\n",
    "    return [p.replace('\\n', ' ').replace('  ', ' ').strip(' ') for p in text if len(p) > 200]\n",
    "\n",
    "\n",
    "def convert_to_df(text, file_save):\n",
    "    df = pd.DataFrame({'paragraph':text})\n",
    "    df.to_csv(file_save)\n",
    "    return df\n",
    "\n",
    "\n",
    "if __name__ == '__main__':\n",
    "    text = parse_pdf('./data/EUtaxonomy.pdf')\n",
    "    para = split_paragraph(text)\n",
    "    text = process_text(para) \n",
    "    df = convert_to_df(text, 'paragraph.csv')"
   ]
  },
  {
   "cell_type": "code",
   "execution_count": null,
   "metadata": {},
   "outputs": [],
   "source": []
  }
 ],
 "metadata": {
  "interpreter": {
   "hash": "41ff115e09abbe8c52328f32f7dffd3d9e2c0a0fa25a59e9af5989b7eca753c9"
  },
  "kernelspec": {
   "display_name": "Python 3.8.10 ('.qa': venv)",
   "language": "python",
   "name": "python3"
  },
  "language_info": {
   "codemirror_mode": {
    "name": "ipython",
    "version": 3
   },
   "file_extension": ".py",
   "mimetype": "text/x-python",
   "name": "python",
   "nbconvert_exporter": "python",
   "pygments_lexer": "ipython3",
   "version": "3.8.10"
  },
  "orig_nbformat": 4
 },
 "nbformat": 4,
 "nbformat_minor": 2
}
