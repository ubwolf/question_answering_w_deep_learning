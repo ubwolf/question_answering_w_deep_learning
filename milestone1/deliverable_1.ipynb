{
 "cells": [
  {
   "cell_type": "code",
   "execution_count": null,
   "metadata": {},
   "outputs": [],
   "source": [
    "import pandas as pd\n",
    "import re \n",
    "import textract\n",
    "\n",
    "\n",
    "def parse_pdf(text):\n",
    "    return textract.process(text, method='pdfminer').decode()\n",
    "\n",
    "\n",
    "def process_paragraph(text):\n",
    "    split_para = re.split(' \\n\\n \\n\\n \\n\\n \\n\\n \\n\\n \\n\\n', text)\n",
    "    para_text = split_para[2:]\n",
    "    para_text = \" \".join([p for p in para_text])\n",
    "    para_sub = re.split('\\n\\n', para_text)\n",
    "    return [p.strip().replace('\\n', '') for p in para_sub if len(p) > 200]\n",
    "\n",
    "\n",
    "if __name__ == '__main__':\n",
    "    text = parse_pdf('./data/EUtaxonomy.pdf')\n",
    "    para = process_paragraph(text)\n",
    "    \n",
    "    "
   ]
  }
 ],
 "metadata": {
  "language_info": {
   "name": "python"
  },
  "orig_nbformat": 4
 },
 "nbformat": 4,
 "nbformat_minor": 2
}
